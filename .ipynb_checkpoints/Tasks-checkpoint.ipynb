{
 "cells": [
  {
   "cell_type": "markdown",
   "metadata": {},
   "source": [
    "# Tasks\n",
    "#### These are my solutions to the Tasks assessment. The author is Owen Coleman (G00387850@gmit.ie).\n",
    "***"
   ]
  },
  {
   "cell_type": "markdown",
   "metadata": {},
   "source": [
    "#### Task 1 - A Python function called counts that takes a list as input and returns a dictionary of unique items in the list as keys and the number of times each item appears as values.\n",
    "\n",
    "A simple way to count the frequency of elements in a list is to iterate over the list, using each distinct element as a dictionary key. You then store the corresponding occurances of that key as values. [1] We use the dict.get() method on each iteration to find the value of each key. [2]\n",
    "\n",
    "[1] https://www.geeksforgeeks.org/counting-the-frequencies-in-a-list-using-dictionary-in-python/\n",
    "\n",
    "[2] https://www.programiz.com/python-programming/methods/dictionary/get"
   ]
  },
  {
   "cell_type": "code",
   "execution_count": 1,
   "metadata": {},
   "outputs": [],
   "source": [
    "def counts(lst):\n",
    "    d={} #empty dictionary\n",
    "    for i in lst:\n",
    "        d[i] = d.get(i, 0) + 1 # .get method returns value for key if key is in the dictionary, otherwise returns 0 as default.\n",
    "    return d"
   ]
  },
  {
   "cell_type": "markdown",
   "metadata": {},
   "source": [
    "##### Tests"
   ]
  },
  {
   "cell_type": "code",
   "execution_count": 2,
   "metadata": {},
   "outputs": [],
   "source": [
    "abc = ['A', 'A', 'B', 'C', 'A']"
   ]
  },
  {
   "cell_type": "code",
   "execution_count": 3,
   "metadata": {
    "scrolled": true
   },
   "outputs": [
    {
     "data": {
      "text/plain": [
       "{'A': 3, 'B': 1, 'C': 1}"
      ]
     },
     "execution_count": 3,
     "metadata": {},
     "output_type": "execute_result"
    }
   ],
   "source": [
    "counts(abc)"
   ]
  },
  {
   "cell_type": "code",
   "execution_count": 4,
   "metadata": {},
   "outputs": [],
   "source": [
    "lst = ['1','1','2','3','4','5','6','6','7','7','7']"
   ]
  },
  {
   "cell_type": "code",
   "execution_count": 5,
   "metadata": {},
   "outputs": [
    {
     "data": {
      "text/plain": [
       "{'1': 2, '2': 1, '3': 1, '4': 1, '5': 1, '6': 2, '7': 3}"
      ]
     },
     "execution_count": 5,
     "metadata": {},
     "output_type": "execute_result"
    }
   ],
   "source": [
    "counts(lst)"
   ]
  },
  {
   "cell_type": "markdown",
   "metadata": {},
   "source": [
    "***"
   ]
  },
  {
   "cell_type": "markdown",
   "metadata": {},
   "source": [
    "#### Task 2 - A Python function called dicerolls that simulates rolling dice.\n",
    "<br>\n",
    "This function can be done relatively easily by using the numpy.random library, in particular, the numpy.random.choice() function.[1] Using the parameters of .choice(), it is possible to simulate the expected results of throwing multiple 6-sided dice. From there, we can loop through the values at each index of the output array, summing the values with numpy.sum() and appending them to a list 'lst'.[2] Finally, utilizing core of the counts() function from Task 1, we can store a similar count of the total face value from each dice roll.\n",
    "\n",
    "[1] NumPy documentation, numpy.random.Generator.choice, https://numpy.org/doc/stable/reference/random/generated/numpy.random.Generator.choice.html#numpy.random.Generator.choice\n",
    "\n",
    "[2] NumPy documentation, numpy.sum, https://numpy.org/doc/stable/reference/generated/numpy.sum.html\n"
   ]
  },
  {
   "cell_type": "code",
   "execution_count": 6,
   "metadata": {},
   "outputs": [],
   "source": [
    "import numpy as np\n",
    "import matplotlib.pyplot as plt"
   ]
  },
  {
   "cell_type": "code",
   "execution_count": 7,
   "metadata": {},
   "outputs": [],
   "source": [
    "def dicerolls(k,n):\n",
    "    lst = [] #empty list\n",
    "    dice = np.random.choice([1,2,3,4,5,6], (n,k), p=[1/6, 1/6, 1/6, 1/6, 1/6, 1/6]) #simulated diceroll using numpy.random.choice().\n",
    "    #above function will return values from 1-6, of size n, k times, each value has a 1/6 chance of occuring (1 face of die)\n",
    "    for i in range(n):\n",
    "        lst.append(dice[i].sum()) #using .sum() from numpy to sum the values in each subarray \n",
    "    lst.sort() #sorting list values for cleaner dictionary presentation.\n",
    "    dct={} #empty dictionary\n",
    "    for z in lst:\n",
    "        dct[z] = dct.get(z, 0) + 1 # .get method returns value for key if key is in the dictionary, otherwise returns 0 as default.\n",
    "    return dct "
   ]
  },
  {
   "cell_type": "markdown",
   "metadata": {},
   "source": [
    "##### Tests"
   ]
  },
  {
   "cell_type": "code",
   "execution_count": 8,
   "metadata": {},
   "outputs": [
    {
     "data": {
      "text/plain": [
       "{2: 31,\n",
       " 3: 47,\n",
       " 4: 90,\n",
       " 5: 107,\n",
       " 6: 138,\n",
       " 7: 154,\n",
       " 8: 147,\n",
       " 9: 125,\n",
       " 10: 78,\n",
       " 11: 51,\n",
       " 12: 32}"
      ]
     },
     "execution_count": 8,
     "metadata": {},
     "output_type": "execute_result"
    }
   ],
   "source": [
    "dicerolls(2, 1000)"
   ]
  },
  {
   "cell_type": "code",
   "execution_count": 9,
   "metadata": {
    "scrolled": true
   },
   "outputs": [
    {
     "data": {
      "text/plain": [
       "{5: 1,\n",
       " 6: 1,\n",
       " 7: 10,\n",
       " 8: 11,\n",
       " 9: 18,\n",
       " 10: 27,\n",
       " 11: 27,\n",
       " 12: 45,\n",
       " 13: 37,\n",
       " 14: 58,\n",
       " 15: 42,\n",
       " 16: 35,\n",
       " 17: 35,\n",
       " 18: 20,\n",
       " 19: 10,\n",
       " 20: 14,\n",
       " 21: 7,\n",
       " 22: 2}"
      ]
     },
     "execution_count": 9,
     "metadata": {},
     "output_type": "execute_result"
    }
   ],
   "source": [
    "dicerolls(4, 400)"
   ]
  },
  {
   "cell_type": "markdown",
   "metadata": {},
   "source": [
    "***"
   ]
  },
  {
   "cell_type": "markdown",
   "metadata": {},
   "source": [
    "#### Task 3 - The numpy.random.binomial function.\n",
    "<br>\n",
    "The numpy.random.binomial function simulates scenarios that allow for only one of two outcomes.[1] The result is of a binary nature and is usually repeated multiple times.[2] Below is an example of the numpy.random.binomial function being implemented to simulate a coin-toss scenario. In the example, a coin is tossed 100 times and we are interested in how many times it will land on heads. The simulation is then run 1000 times and the results are returned in an array. At each given instance we can observe a value that is generally ~50. This is the count of times the coin landed on heads in that instance. To get a clear picture of the distribution, the returned array of values is graphed in a seaborn distplot. Within this graph, we can observe the bell-shaped curve of the coin toss scenario. As there is always a 50% chance for the coin to land on heads, we can expect that half of the 100 tosses to end up being heads. The graph reflects this, with sharp fall offs on either side of 50 towards 0 and 100. \n",
    "\n",
    "[1]NumPy Documentation, numpy.random.binomial, https://numpy.org/doc/stable/reference/random/generated/numpy.random.binomial.html\n",
    "\n",
    "[2]w3schools, Binomial Distribution, https://www.w3schools.com/python/numpy_random_binomial.asp\n"
   ]
  },
  {
   "cell_type": "code",
   "execution_count": 38,
   "metadata": {
    "scrolled": true
   },
   "outputs": [
    {
     "data": {
      "text/plain": [
       "<matplotlib.axes._subplots.AxesSubplot at 0x2d2199eb970>"
      ]
     },
     "execution_count": 38,
     "metadata": {},
     "output_type": "execute_result"
    },
    {
     "data": {
      "image/png": "[encoded data removed]",
      "text/plain": [
       "<Figure size 432x288 with 1 Axes>"
      ]
     },
     "metadata": {
      "needs_background": "light"
     },
     "output_type": "display_data"
    }
   ],
   "source": [
    "import numpy as np\n",
    "import matplotlib.pyplot as plt\n",
    "import seaborn as sns\n",
    "\n",
    "n, p = 100, 0.5 #n number of coin flips, p 50% probability of handing on heads.\n",
    "s = np.random.binomial(n, p, size=1000) #100 conflips simulated 1000 times.\n",
    "plt.title('Heads values graphed.')\n",
    "plt.xlabel('Value')\n",
    "plt.ylabel('Frequency')\n",
    "sns.distplot(s) #seaborn distplot"
   ]
  },
  {
   "cell_type": "markdown",
   "metadata": {},
   "source": [
    "***"
   ]
  },
  {
   "cell_type": "code",
   "execution_count": null,
   "metadata": {},
   "outputs": [],
   "source": []
  }
 ],
 "metadata": {
  "kernelspec": {
   "display_name": "Python 3",
   "language": "python",
   "name": "python3"
  },
  "language_info": {
   "codemirror_mode": {
    "name": "ipython",
    "version": 3
   },
   "file_extension": ".py",
   "mimetype": "text/x-python",
   "name": "python",
   "nbconvert_exporter": "python",
   "pygments_lexer": "ipython3",
   "version": "3.8.3"
  }
 },
 "nbformat": 4,
 "nbformat_minor": 4
}
